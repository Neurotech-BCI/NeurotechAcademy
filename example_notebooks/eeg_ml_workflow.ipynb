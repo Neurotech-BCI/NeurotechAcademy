{
 "cells": [
  {
   "cell_type": "code",
   "execution_count": null,
   "id": "d648d316",
   "metadata": {},
   "outputs": [],
   "source": [
    "%pip install numpy\n",
    "%pip install pandas \n",
    "%pip install mne \n",
    "%pip install scikit-learn\n",
    "%pip install mne-features\n",
    "%pip install matplotlib"
   ]
  },
  {
   "cell_type": "code",
   "execution_count": 3,
   "id": "0b600d3f",
   "metadata": {},
   "outputs": [],
   "source": [
    "import numpy as np\n",
    "import pandas as pd"
   ]
  },
  {
   "cell_type": "code",
   "execution_count": 4,
   "id": "a80d3547",
   "metadata": {},
   "outputs": [
    {
     "name": "stdout",
     "output_type": "stream",
     "text": [
      "Reading c:\\Users\\matth\\Downloads\\Neurotech\\NeurotechAcademy\\example_notebooks\\data\\imagined_emotion.fdt\n"
     ]
    },
    {
     "name": "stderr",
     "output_type": "stream",
     "text": [
      "C:\\Users\\matth\\AppData\\Local\\Temp\\ipykernel_38024\\1825451887.py:4: RuntimeWarning: Data file name in EEG.data (sub-01_task-ImaginedEmotion_eeg.fdt) is incorrect, the file name must have changed on disk, using the correct file name (imagined_emotion.fdt).\n",
      "  raw = mne.io.read_raw_eeglab(\"data/imagined_emotion.set\")\n"
     ]
    },
    {
     "name": "stdout",
     "output_type": "stream",
     "text": [
      "<Info | 8 non-empty values\n",
      " bads: []\n",
      " ch_names: A1, A2, A3, A4, A5, A6, A7, A8, A10, A11, A12, A13, A14, A15, ...\n",
      " chs: 224 EEG\n",
      " custom_ref_applied: False\n",
      " dig: 227 items (3 Cardinal, 224 EEG)\n",
      " highpass: 0.0 Hz\n",
      " lowpass: 128.0 Hz\n",
      " meas_date: unspecified\n",
      " nchan: 224\n",
      " projs: []\n",
      " sfreq: 256.0 Hz\n",
      ">\n"
     ]
    }
   ],
   "source": [
    "import mne\n",
    "\n",
    "### Load EEG dataset/info into MNE ###\n",
    "raw = mne.io.read_raw_eeglab(\"data/imagined_emotion.set\")\n",
    "print(raw.info)"
   ]
  },
  {
   "cell_type": "code",
   "execution_count": 5,
   "id": "0170f6e9",
   "metadata": {},
   "outputs": [
    {
     "name": "stdout",
     "output_type": "stream",
     "text": [
      "Raw data shape: (224, 1154304)\n",
      "Number of channels: 224\n",
      "Number of timesteps at a sampling frequency of 256 timesteps per second: 1154304\n"
     ]
    }
   ],
   "source": [
    "### Call Raw.get_data() to return the entire 75 minute EEG recording as a 2D numPy array ###\n",
    "data = raw.get_data()\n",
    "\n",
    "print(f\"Raw data shape: {data.shape}\")\n",
    "print(f\"Number of channels: {data.shape[0]}\")\n",
    "print(f\"Number of timesteps at a sampling frequency of 256 timesteps per second: {data.shape[1]}\")"
   ]
  },
  {
   "cell_type": "code",
   "execution_count": 6,
   "id": "f9973674",
   "metadata": {},
   "outputs": [],
   "source": [
    "EMOTIONS = {\n",
    "    \"awe\", \"frustration\", \"joy\", \"anger\", \"happy\", \"sad\", \"love\", \"fear\",\n",
    "    \"compassion\", \"jealousy\", \"content\", \"grief\", \"relief\", \"excite\", \"disgust\"\n",
    "}\n",
    "\n",
    "def epoch_from_tsv(raw, tsv_path, epoch_len=2.0):\n",
    "\n",
    "    df = pd.read_csv(tsv_path, sep=\"\\t\")\n",
    "    df = df[[\"onset\", \"value\"]]\n",
    "\n",
    "    sfreq = raw.info[\"sfreq\"]\n",
    "    data = raw.get_data()\n",
    "    n_ch, n_times = data.shape\n",
    "    samples_per_epoch = int(round(epoch_len * sfreq))\n",
    "    trials_by_emotion = {}\n",
    "    for i, row in df.iterrows():\n",
    "        if row[\"value\"] in EMOTIONS:\n",
    "            emotion = row[\"value\"]\n",
    "            press1_idx = df.index[(df.index > i) & (df[\"value\"] == \"press1\")]\n",
    "            if len(press1_idx) == 0:\n",
    "                continue\n",
    "            press1_onset = df.loc[press1_idx[0], \"onset\"]\n",
    "            exit_idx = df.index[(df.index > press1_idx[0]) & (df[\"value\"] == \"exit\")]\n",
    "            if len(exit_idx) == 0:\n",
    "                continue\n",
    "            exit_onset = df.loc[exit_idx[0], \"onset\"]\n",
    "            start = int(round(press1_onset * sfreq))\n",
    "            stop = int(round(exit_onset * sfreq))\n",
    "            if stop > n_times:\n",
    "                stop = n_times\n",
    "            trial = data[:, start:stop]\n",
    "            if trial.shape[1] >= samples_per_epoch:\n",
    "                trials_by_emotion.setdefault(emotion, []).append(trial)\n",
    "    min_len = min(min(t.shape[1] for t in trials) for trials in trials_by_emotion.values())\n",
    "    min_len = (min_len // samples_per_epoch) * samples_per_epoch\n",
    "    X_list, y_list = [], []\n",
    "    for emotion, trials in trials_by_emotion.items():\n",
    "        for trial in trials:\n",
    "            trial = trial[:, :min_len]\n",
    "            n_epochs = min_len // samples_per_epoch\n",
    "            for j in range(n_epochs):\n",
    "                seg = trial[:, j*samples_per_epoch:(j+1)*samples_per_epoch]\n",
    "                X_list.append(seg)\n",
    "                y_list.append(emotion)\n",
    "\n",
    "    X = np.stack(X_list, axis=0)\n",
    "    y = np.array(y_list)\n",
    "    return X, y"
   ]
  },
  {
   "cell_type": "code",
   "execution_count": 7,
   "id": "49844997",
   "metadata": {},
   "outputs": [
    {
     "name": "stdout",
     "output_type": "stream",
     "text": [
      "EEG data shape: (405, 224, 512)\n",
      "Class labels shape: (405,)\n"
     ]
    }
   ],
   "source": [
    "### Split/epoch the continuous EEG recording into 2 second long samples each with an associated emotion label according to the event offsets defined in events.tsv ###\n",
    "\n",
    "X, y = epoch_from_tsv(raw, \"data/events.tsv\")\n",
    "\n",
    "### Shape is now (number of samples x number of channels x number of timesteps per epoch) ###\n",
    "print(f\"EEG data shape: {X.shape}\")\n",
    "print(f\"Class labels shape: {y.shape}\")"
   ]
  },
  {
   "cell_type": "code",
   "execution_count": 8,
   "id": "7e9c656b",
   "metadata": {},
   "outputs": [
    {
     "name": "stdout",
     "output_type": "stream",
     "text": [
      "Dataset label counts:\n",
      "[['anger' '27']\n",
      " ['awe' '27']\n",
      " ['compassion' '27']\n",
      " ['content' '27']\n",
      " ['disgust' '27']\n",
      " ['excite' '27']\n",
      " ['fear' '27']\n",
      " ['frustration' '27']\n",
      " ['grief' '27']\n",
      " ['happy' '27']\n",
      " ['jealousy' '27']\n",
      " ['joy' '27']\n",
      " ['love' '27']\n",
      " ['relief' '27']\n",
      " ['sad' '27']]\n"
     ]
    }
   ],
   "source": [
    "unique_labels, counts = np.unique(y,return_counts=True)\n",
    "print(\"Dataset label counts:\")\n",
    "print(np.asarray((unique_labels, counts)).T)"
   ]
  },
  {
   "cell_type": "code",
   "execution_count": 9,
   "id": "bfa1da30",
   "metadata": {},
   "outputs": [
    {
     "name": "stdout",
     "output_type": "stream",
     "text": [
      "Training dataset shape: (324, 224, 512)\n",
      "Training labels shape: (324,)\n",
      "Testing dataset shape: (81, 224, 512)\n",
      "Testing labels shape: (81,)\n"
     ]
    }
   ],
   "source": [
    "from sklearn.model_selection import train_test_split\n",
    "\n",
    "### Randomly split the dataset into an 80% training split and 20% testing split while maintaining the balanced class distribution ###\n",
    "X_train, X_test, y_train, y_test = train_test_split(X, y, test_size=0.2, stratify=y, random_state=42)\n",
    "print(f\"Training dataset shape: {X_train.shape}\")\n",
    "print(f\"Training labels shape: {y_train.shape}\")\n",
    "print(f\"Testing dataset shape: {X_test.shape}\")\n",
    "print(f\"Testing labels shape: {y_test.shape}\")\n"
   ]
  },
  {
   "cell_type": "code",
   "execution_count": 10,
   "id": "0136ab7c",
   "metadata": {},
   "outputs": [
    {
     "name": "stdout",
     "output_type": "stream",
     "text": [
      "Training set label counts:\n",
      "[['anger' '22']\n",
      " ['awe' '22']\n",
      " ['compassion' '22']\n",
      " ['content' '21']\n",
      " ['disgust' '21']\n",
      " ['excite' '22']\n",
      " ['fear' '21']\n",
      " ['frustration' '21']\n",
      " ['grief' '22']\n",
      " ['happy' '22']\n",
      " ['jealousy' '21']\n",
      " ['joy' '22']\n",
      " ['love' '21']\n",
      " ['relief' '22']\n",
      " ['sad' '22']]\n",
      "\n",
      "Test set label counts:\n",
      "[['anger' '5']\n",
      " ['awe' '5']\n",
      " ['compassion' '5']\n",
      " ['content' '6']\n",
      " ['disgust' '6']\n",
      " ['excite' '5']\n",
      " ['fear' '6']\n",
      " ['frustration' '6']\n",
      " ['grief' '5']\n",
      " ['happy' '5']\n",
      " ['jealousy' '6']\n",
      " ['joy' '5']\n",
      " ['love' '6']\n",
      " ['relief' '5']\n",
      " ['sad' '5']]\n"
     ]
    }
   ],
   "source": [
    "unique_labels, counts = np.unique(y_train,return_counts=True)\n",
    "print(\"Training set label counts:\")\n",
    "print(np.asarray((unique_labels, counts)).T)\n",
    "print()\n",
    "print(\"Test set label counts:\")\n",
    "unique_labels, counts = np.unique(y_test,return_counts=True)\n",
    "print(np.asarray((unique_labels, counts)).T)"
   ]
  },
  {
   "cell_type": "code",
   "execution_count": 11,
   "id": "e8048d5b",
   "metadata": {},
   "outputs": [
    {
     "name": "stdout",
     "output_type": "stream",
     "text": [
      "Shape of training set features: (324, 1344)\n",
      "Shape of training set features: (81, 1344)\n"
     ]
    }
   ],
   "source": [
    "from mne_features.feature_extraction import FeatureExtractor\n",
    "\n",
    "### Extract frequency bandpower and spectral entropy features over the time domain for each channel ###\n",
    "fe = FeatureExtractor(sfreq=raw.info['sfreq'], selected_funcs=['pow_freq_bands', 'spect_entropy'])\n",
    "\n",
    "### After transformation, the data shape is (number of samples x number of features) ###\n",
    "X_train_feats = fe.fit_transform(X_train)\n",
    "print(f\"Shape of training set features: {X_train_feats.shape}\")\n",
    "X_test_feats = fe.fit_transform(X_test)\n",
    "print(f\"Shape of training set features: {X_test_feats.shape}\")\n"
   ]
  },
  {
   "cell_type": "code",
   "execution_count": 12,
   "id": "f4e52d53",
   "metadata": {},
   "outputs": [
    {
     "name": "stdout",
     "output_type": "stream",
     "text": [
      "15 Class Accuracy: 63.0%\n"
     ]
    }
   ],
   "source": [
    "from sklearn.svm import SVC\n",
    "from sklearn.metrics import accuracy_score\n",
    "\n",
    "### Fit a linear Support Vector Machine classifier to the training data and labels ###\n",
    "model = SVC(kernel=\"linear\")\n",
    "model.fit(X_train_feats, y_train)\n",
    "\n",
    "### Use the fitted model to predict the labels of the test data ###\n",
    "predictions = model.predict(X_test_feats)\n",
    "\n",
    "### Compute accuracy between the predicted class labels and real class labels on the test set ###\n",
    "accuracy = accuracy_score(y_test, predictions)\n",
    "print(f\"15 Class Accuracy: {accuracy*100:.1f}%\")\n"
   ]
  },
  {
   "cell_type": "code",
   "execution_count": 13,
   "id": "e79b2652",
   "metadata": {},
   "outputs": [
    {
     "data": {
      "image/png": "[encoded data removed]",
      "text/plain": [
       "<Figure size 1200x1200 with 2 Axes>"
      ]
     },
     "metadata": {},
     "output_type": "display_data"
    }
   ],
   "source": [
    "from sklearn.metrics import confusion_matrix\n",
    "from sklearn.metrics import ConfusionMatrixDisplay\n",
    "import matplotlib.pyplot as plt\n",
    "\n",
    "class_names = np.unique(y_test)\n",
    "cm = confusion_matrix(y_test, predictions, labels=class_names)\n",
    "disp = ConfusionMatrixDisplay(confusion_matrix=cm, display_labels=class_names)\n",
    "\n",
    "fig, ax = plt.subplots(figsize=(12, 12))\n",
    "disp.plot(ax=ax, cmap=\"Blues\", colorbar=True)\n",
    "\n",
    "plt.xticks(rotation=0, ha=\"center\", fontsize=8)\n",
    "plt.yticks(rotation=0, ha=\"right\", fontsize=8)\n",
    "\n",
    "plt.tight_layout()\n",
    "plt.show()"
   ]
  }
 ],
 "metadata": {
  "kernelspec": {
   "display_name": "neurotech",
   "language": "python",
   "name": "python3"
  },
  "language_info": {
   "codemirror_mode": {
    "name": "ipython",
    "version": 3
   },
   "file_extension": ".py",
   "mimetype": "text/x-python",
   "name": "python",
   "nbconvert_exporter": "python",
   "pygments_lexer": "ipython3",
   "version": "3.13.1"
  }
 },
 "nbformat": 4,
 "nbformat_minor": 5
}
